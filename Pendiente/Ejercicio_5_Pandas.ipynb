{
 "cells": [
  {
   "cell_type": "code",
   "execution_count": 5,
   "metadata": {},
   "outputs": [],
   "source": [
    "# Importar librerías necesarias.\n",
    "import numpy as np\n",
    "import matplotlib.pyplot as plt\n",
    "import pandas as pd\n",
    "from sklearn.linear_model import LinearRegression\n",
    "from sklearn.tree import DecisionTreeRegressor\n",
    "from sklearn.model_selection import train_test_split\n",
    "from sklearn.datasets import load_breast_cancer\n",
    "from tabulate import tabulate\n",
    "from sklearn.datasets import load_iris"
   ]
  },
  {
   "cell_type": "code",
   "execution_count": 6,
   "metadata": {},
   "outputs": [
    {
     "name": "stdout",
     "output_type": "stream",
     "text": [
      "         sepal length (cm)  sepal width (cm)  petal length (cm)  \\\n",
      "species                                                           \n",
      "setosa                 5.1               3.5                1.4   \n",
      "setosa                 4.9               3.0                1.4   \n",
      "setosa                 4.7               3.2                1.3   \n",
      "setosa                 4.6               3.1                1.5   \n",
      "setosa                 5.0               3.6                1.4   \n",
      "\n",
      "         petal width (cm)  \n",
      "species                    \n",
      "setosa                0.2  \n",
      "setosa                0.2  \n",
      "setosa                0.2  \n",
      "setosa                0.2  \n",
      "setosa                0.2  \n"
     ]
    }
   ],
   "source": [
    "\n",
    "# Cargar el dataset.\n",
    "data = load_iris()\n",
    "df = pd.DataFrame(data.data, columns=data.feature_names)\n",
    "\n",
    "# Añadir la columna 'species'.\n",
    "df['species'] = data.target_names[data.target]\n",
    "\n",
    "# Establecer 'species' como índice.\n",
    "df.set_index('species', inplace=True)\n",
    "\n",
    "# Mostrar las primeras filas para ver cómo está estructurado el DataFrame.\n",
    "print(df.head())\n"
   ]
  },
  {
   "cell_type": "code",
   "execution_count": 7,
   "metadata": {},
   "outputs": [
    {
     "name": "stdout",
     "output_type": "stream",
     "text": [
      "  species  sepal length (cm)  sepal width (cm)  petal length (cm)  \\\n",
      "0  setosa                5.1               3.5                1.4   \n",
      "1  setosa                4.9               3.0                1.4   \n",
      "2  setosa                4.7               3.2                1.3   \n",
      "3  setosa                4.6               3.1                1.5   \n",
      "4  setosa                5.0               3.6                1.4   \n",
      "\n",
      "   petal width (cm)  \n",
      "0               0.2  \n",
      "1               0.2  \n",
      "2               0.2  \n",
      "3               0.2  \n",
      "4               0.2  \n",
      "         sepal length (cm)  sepal width (cm)  petal length (cm)  \\\n",
      "species                                                           \n",
      "setosa                 5.1               3.5                1.4   \n",
      "setosa                 4.9               3.0                1.4   \n",
      "setosa                 4.7               3.2                1.3   \n",
      "setosa                 4.6               3.1                1.5   \n",
      "setosa                 5.0               3.6                1.4   \n",
      "\n",
      "         petal width (cm)  \n",
      "species                    \n",
      "setosa                0.2  \n",
      "setosa                0.2  \n",
      "setosa                0.2  \n",
      "setosa                0.2  \n",
      "setosa                0.2  \n",
      "5.1\n",
      "1.4\n",
      "         sepal length (cm)  sepal width (cm)  petal length (cm)  \\\n",
      "species                                                           \n",
      "setosa                 5.1               3.5                1.4   \n",
      "setosa                 4.9               3.0                1.4   \n",
      "setosa                 4.7               3.2                1.3   \n",
      "setosa                 4.6               3.1                1.5   \n",
      "setosa                 5.0               3.6                1.4   \n",
      "\n",
      "         petal width (cm)  \n",
      "species                    \n",
      "setosa                0.2  \n",
      "setosa                0.2  \n",
      "setosa                0.2  \n",
      "setosa                0.2  \n",
      "setosa                0.2  \n"
     ]
    },
    {
     "name": "stderr",
     "output_type": "stream",
     "text": [
      "C:\\Users\\Caido\\AppData\\Local\\Temp\\ipykernel_17704\\1081075171.py:18: UserWarning: Pandas doesn't allow columns to be created via a new attribute name - see https://pandas.pydata.org/pandas-docs/stable/indexing.html#attribute-access\n",
      "  listo = df.usecols=[\"sepal length\",\"sepal width\"]\n"
     ]
    }
   ],
   "source": [
    "\n",
    "#Ejercicio 2 - Resetear el índice.\n",
    "df = df.reset_index()\n",
    "print(df.head())\n",
    "\n",
    "#Ejercicio 3 - Reindexar el DataFrame.\n",
    "df = df.set_index(\"species\").reindex()\n",
    "print(df.head())\n",
    "\n",
    "#Ejercicio 4 - Seleccionar datos con .loc, .iloc, .at, .iat.\n",
    "df.loc[\"setosa\"]\n",
    "df.iloc[10:20, 2:4] \n",
    "primera_columna = df.iat[0,0]\n",
    "print(primera_columna) \n",
    "f1_c2 = df.iat[0, 2]  \n",
    "print(f1_c2)  \n",
    "\n",
    "#Ejercicio 5 - Filtrar columnas con usecols.\n",
    "listo = df.usecols=[\"sepal length\",\"sepal width\"]\n",
    "print(df.head())\n"
   ]
  },
  {
   "cell_type": "code",
   "execution_count": null,
   "metadata": {},
   "outputs": [],
   "source": []
  }
 ],
 "metadata": {
  "kernelspec": {
   "display_name": ".venv",
   "language": "python",
   "name": "python3"
  },
  "language_info": {
   "codemirror_mode": {
    "name": "ipython",
    "version": 3
   },
   "file_extension": ".py",
   "mimetype": "text/x-python",
   "name": "python",
   "nbconvert_exporter": "python",
   "pygments_lexer": "ipython3",
   "version": "3.10.0"
  }
 },
 "nbformat": 4,
 "nbformat_minor": 2
}
